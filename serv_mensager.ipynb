{
 "cells": [
  {
   "cell_type": "code",
   "execution_count": 1,
   "id": "cc2e1284",
   "metadata": {},
   "outputs": [],
   "source": [
    "# ok bd de mensagens\n",
    "    # ok remover mensagens ja enviadas\n",
    "# ok pegar mensagem random\n",
    "# TODO enviar tgrm\n",
    "# TODO agendar no serv para enviar td dia\n",
    "# TODO add mais frases pelo menos 360\n",
    "\n",
    "# TODO segundo script - rodar de hora em hora com lembretes - relacionar com planilha\n",
    "\n",
    "# ok anotar como mensagem enviada - salva db\n",
    "\n",
    "\n",
    "import pandas as pd\n",
    "import numpy as np\n",
    "import sqlite3\n",
    "from datetime import datetime\n",
    "import sys\n",
    "# pip install python-dotenv\n",
    "import os\n",
    "from dotenv import load_dotenv\n",
    "# Load environment variables from .env file\n",
    "load_dotenv()\n",
    "\n",
    "\n",
    "\n",
    "agora = datetime.now().isoformat(sep=' ', timespec='seconds')\n",
    "\n"
   ]
  },
  {
   "cell_type": "code",
   "execution_count": 2,
   "id": "e88cbe68",
   "metadata": {},
   "outputs": [],
   "source": [
    "# DB\n",
    "conn = sqlite3.connect('db_msgs.db')  # Arquivo .db será criado no diretório atual\n",
    "cursor = conn.cursor()\n",
    "\n",
    "# Criação da tabela com id, numero e timestamp\n",
    "\n",
    "# 🚨 ADMIN\n",
    "# limpar tabela 🚨🚨🚨🚨\n",
    "DROP = False\n",
    "\n",
    "if DROP == True:\n",
    "\n",
    "    cursor.execute(\"\"\"\n",
    "    DROP TABLE eventos \n",
    "    \"\"\")\n",
    "\n",
    "cursor.execute(\"\"\"\n",
    "CREATE TABLE IF NOT EXISTS eventos (\n",
    "\n",
    "    id INTEGER PRIMARY KEY AUTOINCREMENT,\n",
    "    numero_frase INTEGER NOT NULL,\n",
    "    timestamp TEXT NOT NULL\n",
    ")\n",
    "\"\"\")\n",
    "\n",
    "conn.commit()\n",
    "\n"
   ]
  },
  {
   "cell_type": "code",
   "execution_count": 3,
   "id": "986a1b46",
   "metadata": {},
   "outputs": [
    {
     "name": "stdout",
     "output_type": "stream",
     "text": [
      "Frase Sorteada: 19\n"
     ]
    }
   ],
   "source": [
    "# sortear frase a ser enviada\n",
    "\n",
    "\n",
    "# TODO filtrar frases ja enviadas --------\n",
    "\n",
    "# Conectar ao banco\n",
    "# conn = sqlite3.connect('db_msgs.db')\n",
    "\n",
    "# Ler a tabela como DataFrame\n",
    "df_msgs_enviadas = pd.read_sql_query(\"SELECT * FROM eventos\", conn)\n",
    "\n",
    "# # Exibir o DataFrame\n",
    "# display(df_msgs_enviadas)\n",
    "# # Fechar conexão\n",
    "# conn.close()\n",
    "\n",
    "# ----------------------------------------\n",
    "\n",
    "# DF de mensagens a sortear\n",
    "df_msgs = pd.read_csv(\"db_msgs2.csv\", sep=\";\")\n",
    "\n",
    "    # filtrar mensagens já enviadas\n",
    "df_msgs_filtro = df_msgs[~df_msgs['ID'].isin(df_msgs_enviadas['numero_frase'])]\n",
    "\n",
    "\n",
    "if len(df_msgs_filtro) == 0:\n",
    "    print(\"🚨🚨🚨 Acabaram as frases!! 🚨🚨🚨\")\n",
    "    #TODO mandar essa frase no telegram\n",
    "    sys.exit()\n",
    "\n",
    "else:\n",
    "    numero_frase = int(df_msgs_filtro['ID'].sample(1).iloc[0])\n",
    "    print(f\"Frase Sorteada: {numero_frase}\")"
   ]
  },
  {
   "cell_type": "code",
   "execution_count": 4,
   "id": "b4e8df4b",
   "metadata": {},
   "outputs": [
    {
     "data": {
      "text/plain": [
       "48"
      ]
     },
     "execution_count": 4,
     "metadata": {},
     "output_type": "execute_result"
    }
   ],
   "source": [
    "len(df_msgs_filtro)"
   ]
  },
  {
   "cell_type": "code",
   "execution_count": 5,
   "id": "12f549d3",
   "metadata": {},
   "outputs": [
    {
     "name": "stdout",
     "output_type": "stream",
     "text": [
      "A felicidade não é algo pronto. Ela vem de suas próprias ações. - Dalai Lama\n",
      "Registro inserido: frase #19 em 2025-09-16 22:29:31\n"
     ]
    }
   ],
   "source": [
    "# output construção da frase \n",
    "\n",
    "\n",
    "mensagem = df_msgs[df_msgs['ID'] == numero_frase]['Mensagem'].iloc[0]\n",
    "autor = df_msgs[df_msgs['ID'] == numero_frase]['Autor/Fonte'].iloc[0]\n",
    "\n",
    "mensagem_ouput = f\"{mensagem} - {autor}\"\n",
    "\n",
    "\n",
    "\n",
    "print(mensagem_ouput)\n",
    "\n",
    "\n",
    "# TODO envio telegrm\n",
    "\n",
    "\n",
    "\n",
    "# TODO adicionar as frases enviadas\n",
    "\n",
    "cursor.execute(\"INSERT INTO eventos (numero_frase, timestamp) VALUES (?, ?)\", (numero_frase, agora))\n",
    "conn.commit()\n",
    "# conn.close()\n",
    "print(f\"Registro inserido: frase #{numero_frase} em {agora}\")\n",
    "\n",
    "\n"
   ]
  },
  {
   "cell_type": "code",
   "execution_count": 6,
   "id": "acf3f7b7",
   "metadata": {},
   "outputs": [
    {
     "data": {
      "text/html": [
       "<div>\n",
       "<style scoped>\n",
       "    .dataframe tbody tr th:only-of-type {\n",
       "        vertical-align: middle;\n",
       "    }\n",
       "\n",
       "    .dataframe tbody tr th {\n",
       "        vertical-align: top;\n",
       "    }\n",
       "\n",
       "    .dataframe thead th {\n",
       "        text-align: right;\n",
       "    }\n",
       "</style>\n",
       "<table border=\"1\" class=\"dataframe\">\n",
       "  <thead>\n",
       "    <tr style=\"text-align: right;\">\n",
       "      <th></th>\n",
       "      <th>id</th>\n",
       "      <th>numero_frase</th>\n",
       "      <th>timestamp</th>\n",
       "    </tr>\n",
       "  </thead>\n",
       "  <tbody>\n",
       "    <tr>\n",
       "      <th>0</th>\n",
       "      <td>1</td>\n",
       "      <td>48</td>\n",
       "      <td>2025-09-16 21:38:08</td>\n",
       "    </tr>\n",
       "    <tr>\n",
       "      <th>1</th>\n",
       "      <td>2</td>\n",
       "      <td>46</td>\n",
       "      <td>2025-09-16 21:38:21</td>\n",
       "    </tr>\n",
       "    <tr>\n",
       "      <th>2</th>\n",
       "      <td>3</td>\n",
       "      <td>2</td>\n",
       "      <td>2025-09-16 21:38:25</td>\n",
       "    </tr>\n",
       "    <tr>\n",
       "      <th>3</th>\n",
       "      <td>4</td>\n",
       "      <td>60</td>\n",
       "      <td>2025-09-16 21:38:34</td>\n",
       "    </tr>\n",
       "    <tr>\n",
       "      <th>4</th>\n",
       "      <td>5</td>\n",
       "      <td>32</td>\n",
       "      <td>2025-09-16 22:02:08</td>\n",
       "    </tr>\n",
       "    <tr>\n",
       "      <th>5</th>\n",
       "      <td>6</td>\n",
       "      <td>58</td>\n",
       "      <td>2025-09-16 22:03:26</td>\n",
       "    </tr>\n",
       "    <tr>\n",
       "      <th>6</th>\n",
       "      <td>7</td>\n",
       "      <td>20</td>\n",
       "      <td>2025-09-16 22:08:55</td>\n",
       "    </tr>\n",
       "    <tr>\n",
       "      <th>7</th>\n",
       "      <td>8</td>\n",
       "      <td>51</td>\n",
       "      <td>2025-09-16 22:13:39</td>\n",
       "    </tr>\n",
       "    <tr>\n",
       "      <th>8</th>\n",
       "      <td>9</td>\n",
       "      <td>40</td>\n",
       "      <td>2025-09-16 22:19:30</td>\n",
       "    </tr>\n",
       "    <tr>\n",
       "      <th>9</th>\n",
       "      <td>10</td>\n",
       "      <td>53</td>\n",
       "      <td>2025-09-16 22:20:00</td>\n",
       "    </tr>\n",
       "    <tr>\n",
       "      <th>10</th>\n",
       "      <td>11</td>\n",
       "      <td>6</td>\n",
       "      <td>2025-09-16 22:20:24</td>\n",
       "    </tr>\n",
       "    <tr>\n",
       "      <th>11</th>\n",
       "      <td>12</td>\n",
       "      <td>23</td>\n",
       "      <td>2025-09-16 22:25:04</td>\n",
       "    </tr>\n",
       "    <tr>\n",
       "      <th>12</th>\n",
       "      <td>13</td>\n",
       "      <td>19</td>\n",
       "      <td>2025-09-16 22:29:31</td>\n",
       "    </tr>\n",
       "  </tbody>\n",
       "</table>\n",
       "</div>"
      ],
      "text/plain": [
       "    id  numero_frase            timestamp\n",
       "0    1            48  2025-09-16 21:38:08\n",
       "1    2            46  2025-09-16 21:38:21\n",
       "2    3             2  2025-09-16 21:38:25\n",
       "3    4            60  2025-09-16 21:38:34\n",
       "4    5            32  2025-09-16 22:02:08\n",
       "5    6            58  2025-09-16 22:03:26\n",
       "6    7            20  2025-09-16 22:08:55\n",
       "7    8            51  2025-09-16 22:13:39\n",
       "8    9            40  2025-09-16 22:19:30\n",
       "9   10            53  2025-09-16 22:20:00\n",
       "10  11             6  2025-09-16 22:20:24\n",
       "11  12            23  2025-09-16 22:25:04\n",
       "12  13            19  2025-09-16 22:29:31"
      ]
     },
     "metadata": {},
     "output_type": "display_data"
    }
   ],
   "source": [
    "# Visualizar no db\n",
    "\n",
    "\n",
    "# Conectar ao banco\n",
    "conn = sqlite3.connect('db_msgs.db')\n",
    "\n",
    "# Ler a tabela como DataFrame\n",
    "df_msgs_enviadas = pd.read_sql_query(\"SELECT * FROM eventos\", conn)\n",
    "\n",
    "# Exibir o DataFrame\n",
    "display(df_msgs_enviadas)\n",
    "# Fechar conexão\n",
    "conn.close()"
   ]
  },
  {
   "cell_type": "code",
   "execution_count": 7,
   "id": "3a558b03",
   "metadata": {},
   "outputs": [
    {
     "data": {
      "text/plain": [
       "19"
      ]
     },
     "execution_count": 7,
     "metadata": {},
     "output_type": "execute_result"
    }
   ],
   "source": [
    "numero_frase"
   ]
  },
  {
   "cell_type": "code",
   "execution_count": null,
   "id": "7fa62dbd",
   "metadata": {},
   "outputs": [],
   "source": []
  },
  {
   "cell_type": "code",
   "execution_count": 8,
   "id": "2b63d82a",
   "metadata": {},
   "outputs": [],
   "source": [
    "# TODO botar no .env\n",
    "\n",
    "TOKEN = os.getenv(\"TOKEN\")\n",
    "CHAT_ID = os.getenv(\"CHAT_ID\")"
   ]
  },
  {
   "cell_type": "code",
   "execution_count": 9,
   "id": "d4f6815b",
   "metadata": {},
   "outputs": [
    {
     "data": {
      "text/plain": [
       "'A felicidade não é algo pronto. Ela vem de suas próprias ações. - Dalai Lama'"
      ]
     },
     "execution_count": 9,
     "metadata": {},
     "output_type": "execute_result"
    }
   ],
   "source": [
    "mensagem_ouput"
   ]
  },
  {
   "cell_type": "code",
   "execution_count": 10,
   "id": "a5c38fff",
   "metadata": {},
   "outputs": [
    {
     "data": {
      "text/plain": [
       "Message(channel_chat_created=False, chat=Chat(first_name='A', id=7988991522, last_name='R', type=<ChatType.PRIVATE>), date=datetime.datetime(2025, 9, 17, 1, 29, 2, tzinfo=datetime.timezone.utc), delete_chat_photo=False, from_user=User(first_name='R. Assistant', id=8117396962, is_bot=True, username='AR20_AssistantBot'), group_chat_created=False, message_id=11, supergroup_chat_created=False, text='A felicidade não é algo pronto. Ela vem de suas próprias ações. - Dalai Lama')"
      ]
     },
     "execution_count": 10,
     "metadata": {},
     "output_type": "execute_result"
    }
   ],
   "source": [
    "# enviar a mensagem para o Telegram\n",
    "\n",
    "from telegram import Bot\n",
    "\n",
    "bot = Bot(token=TOKEN)\n",
    "await bot.send_message(chat_id=CHAT_ID, text=mensagem_ouput)\n",
    "\n",
    "\n",
    "\n",
    "\n"
   ]
  },
  {
   "cell_type": "code",
   "execution_count": 11,
   "id": "301e85f1",
   "metadata": {},
   "outputs": [],
   "source": [
    "# async def enviar(texto):\n",
    "#     async with Bot(TOKEN) as bot:\n",
    "#         await bot.send_message(chat_id=CHAT_ID, text=mensagem_ouput)"
   ]
  },
  {
   "cell_type": "code",
   "execution_count": null,
   "id": "39e4d654",
   "metadata": {},
   "outputs": [],
   "source": []
  }
 ],
 "metadata": {
  "kernelspec": {
   "display_name": "Python 3",
   "language": "python",
   "name": "python3"
  },
  "language_info": {
   "codemirror_mode": {
    "name": "ipython",
    "version": 3
   },
   "file_extension": ".py",
   "mimetype": "text/x-python",
   "name": "python",
   "nbconvert_exporter": "python",
   "pygments_lexer": "ipython3",
   "version": "3.13.5"
  }
 },
 "nbformat": 4,
 "nbformat_minor": 5
}
